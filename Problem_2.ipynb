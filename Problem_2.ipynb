{
  "nbformat": 4,
  "nbformat_minor": 0,
  "metadata": {
    "accelerator": "GPU",
    "colab": {
      "name": "Problem 2",
      "provenance": [],
      "collapsed_sections": []
    },
    "kernelspec": {
      "display_name": "Python 3",
      "name": "python3"
    }
  },
  "cells": [
    {
      "cell_type": "code",
      "metadata": {
        "id": "eCJI0vIw9bgC",
        "outputId": "69ef7f37-46ac-4964-dfbc-af284c11ce97",
        "colab": {
          "base_uri": "https://localhost:8080/",
          "height": 35
        }
      },
      "source": [
        "from google.colab import drive\n",
        "drive.mount('/content/gdrive')"
      ],
      "execution_count": 2,
      "outputs": [
        {
          "output_type": "stream",
          "text": [
            "Mounted at /content/gdrive\n"
          ],
          "name": "stdout"
        }
      ]
    },
    {
      "cell_type": "code",
      "metadata": {
        "id": "tlrjo4iUEg-1"
      },
      "source": [
        "a=[\"train\",\"validation\",\"test\"]\n",
        "b=[\"drone\",\"fighter-jet\",\"helicopter\",\"missile\",\"passenger-plane\",\"rocket\"]\n",
        "fname0=[]\n",
        "fname1=[]\n",
        "fname2=[]\n",
        "fname3=[]\n",
        "fname4=[]\n",
        "fname5=[]\n",
        "c=[fname0,fname1,fname2,fname3,fname4,fname5]\n",
        "\n",
        "import os, shutil\n",
        "org_dir ='/content/gdrive/My Drive/Data for DL'\n",
        "new_dir = '/content/DIVIDED DATA'\n",
        "ins_org_dir=['/content/gdrive/My Drive/Data for DL/{}'.format(i) for i in b]\n",
        "ins_new_dir=['/content/DIVIDED DATA/{}'.format(i) for i in a]"
      ],
      "execution_count": 3,
      "outputs": []
    },
    {
      "cell_type": "code",
      "metadata": {
        "id": "huDhE1bE5xGZ"
      },
      "source": [
        "os.mkdir(new_dir)\n",
        "for i in range(3):\n",
        "    os.mkdir(ins_new_dir[i])\n",
        "\n",
        "ins_ins_new_dir = [[0 for x in range(6)] for x in range(3)]\n",
        "for i in range(3):\n",
        "    for j in range(6): \n",
        "        ins_ins_new_dir[i][j] = os.path.join(ins_new_dir[i],b[j])\n",
        "        os.mkdir(ins_ins_new_dir[i][j])\n",
        "\n",
        "for i in range(6):\n",
        "    c[i] = os.listdir(ins_org_dir[i])   \n",
        "\n",
        "for j in range(6):        \n",
        "    for fname in range(int((len(c[j]))/2)):\n",
        "         src = os.path.join(ins_org_dir[j], c[j][fname])\n",
        "         dst = os.path.join(ins_ins_new_dir[0][j], c[j][fname])\n",
        "         shutil.copyfile(src, dst)\n",
        "        \n",
        "    for fname in range(int((len(c[j]))/2),int((len(c[j]))*0.75)):\n",
        "         src = os.path.join(ins_org_dir[j], c[j][fname])\n",
        "         dst = os.path.join(ins_ins_new_dir[1][j], c[j][fname])\n",
        "         shutil.copyfile(src, dst)\n",
        "                   \n",
        "    for fname in range(int((len(c[j]))*0.75),len(c[j])):\n",
        "         src = os.path.join(ins_org_dir[j], c[j][fname])\n",
        "         dst = os.path.join(ins_ins_new_dir[2][j], c[j][fname])\n",
        "         shutil.copyfile(src, dst)"
      ],
      "execution_count": 4,
      "outputs": []
    },
    {
      "cell_type": "code",
      "metadata": {
        "id": "xmADP4cZXzVK"
      },
      "source": [
        "training_img=0\n",
        "validation_img=0\n",
        "test_img=0\n",
        "for j in range(6):            \n",
        "    training_img=training_img+int((len(c[j]))/2)  \n",
        "    validation_img=validation_img+int((len(c[j]))*0.75)-int((len(c[j]))/2)  \n",
        "    test_img=test_img+len(c[j])-int((len(c[j]))*0.75)"
      ],
      "execution_count": 5,
      "outputs": []
    },
    {
      "cell_type": "code",
      "metadata": {
        "id": "MP-Z6w-r9rFe",
        "outputId": "7c4f7a30-743a-40a7-826d-52b302bb9934",
        "colab": {
          "base_uri": "https://localhost:8080/",
          "height": 74
        }
      },
      "source": [
        "from keras.applications import VGG16\n",
        "conv_base = VGG16(weights='imagenet',include_top=False,\n",
        "                  input_shape=(150, 150, 3))"
      ],
      "execution_count": 6,
      "outputs": [
        {
          "output_type": "stream",
          "text": [
            "Downloading data from https://storage.googleapis.com/tensorflow/keras-applications/vgg16/vgg16_weights_tf_dim_ordering_tf_kernels_notop.h5\n",
            "58892288/58889256 [==============================] - 1s 0us/step\n"
          ],
          "name": "stdout"
        }
      ]
    },
    {
      "cell_type": "code",
      "metadata": {
        "id": "T-DQMD-YTYvI"
      },
      "source": [
        "from keras import models\n",
        "from keras import layers\n",
        "model = models.Sequential()\n",
        "model.add(conv_base)\n",
        "model.add(layers.Flatten())\n",
        "model.add(layers.Dropout(0.5))\n",
        "model.add(layers.Dense(512, activation='relu'))\n",
        "model.add(layers.Dropout(0.5))\n",
        "model.add(layers.Dense(6, activation='softmax'))\n",
        "#conv_base.trainable = False"
      ],
      "execution_count": 25,
      "outputs": []
    },
    {
      "cell_type": "code",
      "metadata": {
        "id": "VjG9zRvRGR6X",
        "outputId": "4c287380-df39-4b0b-8b7f-65dee857cbe5",
        "colab": {
          "base_uri": "https://localhost:8080/",
          "height": 381
        }
      },
      "source": [
        "model.summary()"
      ],
      "execution_count": 26,
      "outputs": [
        {
          "output_type": "stream",
          "text": [
            "Model: \"sequential_3\"\n",
            "_________________________________________________________________\n",
            "Layer (type)                 Output Shape              Param #   \n",
            "=================================================================\n",
            "vgg16 (Functional)           (None, 4, 4, 512)         14714688  \n",
            "_________________________________________________________________\n",
            "flatten_3 (Flatten)          (None, 8192)              0         \n",
            "_________________________________________________________________\n",
            "dropout_1 (Dropout)          (None, 8192)              0         \n",
            "_________________________________________________________________\n",
            "dense_6 (Dense)              (None, 512)               4194816   \n",
            "_________________________________________________________________\n",
            "dropout_2 (Dropout)          (None, 512)               0         \n",
            "_________________________________________________________________\n",
            "dense_7 (Dense)              (None, 6)                 3078      \n",
            "=================================================================\n",
            "Total params: 18,912,582\n",
            "Trainable params: 18,912,582\n",
            "Non-trainable params: 0\n",
            "_________________________________________________________________\n"
          ],
          "name": "stdout"
        }
      ]
    },
    {
      "cell_type": "code",
      "metadata": {
        "id": "CM8IVuAzWloO",
        "outputId": "e6e8910f-2412-44ef-9874-468a546546af",
        "colab": {
          "base_uri": "https://localhost:8080/",
          "height": 801
        }
      },
      "source": [
        "from keras.preprocessing.image import ImageDataGenerator\n",
        "from keras import optimizers\n",
        "batch_size=20\n",
        "train_datagen = ImageDataGenerator(rescale=1./255,rotation_range=40,\n",
        "                                   width_shift_range=0.2,height_shift_range=0.2,\n",
        "                                   shear_range=0.2,zoom_range=0.2,\n",
        "                                   horizontal_flip=True,fill_mode='nearest')\n",
        "\n",
        "test_datagen = ImageDataGenerator(rescale=1./255)\n",
        "\n",
        "train_generator = train_datagen.flow_from_directory(ins_new_dir[0],\n",
        "                                                    target_size=(150, 150),\n",
        "                                                    batch_size=20,\n",
        "                                                    class_mode='categorical') \n",
        "\n",
        "validation_generator = test_datagen.flow_from_directory(ins_new_dir[1],\n",
        "                                                        target_size=(150, 150),\n",
        "                                                        batch_size=20,\n",
        "                                                        class_mode='categorical')\n",
        "\n",
        "model.compile(loss='categorical_crossentropy',\n",
        "              optimizer=optimizers.RMSprop(lr=2e-5),metrics=['acc'])\n",
        "\n",
        "history = model.fit_generator(train_generator,\n",
        "                              steps_per_epoch=50,\n",
        "                              epochs=20,\n",
        "                              validation_data=validation_generator,\n",
        "                              validation_steps=25)\n"
      ],
      "execution_count": 27,
      "outputs": [
        {
          "output_type": "stream",
          "text": [
            "Found 4222 images belonging to 6 classes.\n",
            "Found 2123 images belonging to 6 classes.\n",
            "Epoch 1/20\n",
            "50/50 [==============================] - 35s 702ms/step - loss: 1.7374 - acc: 0.3170 - val_loss: 1.3948 - val_acc: 0.4760\n",
            "Epoch 2/20\n",
            "50/50 [==============================] - 32s 649ms/step - loss: 1.3483 - acc: 0.4878 - val_loss: 1.3339 - val_acc: 0.5560\n",
            "Epoch 3/20\n",
            "50/50 [==============================] - 33s 659ms/step - loss: 1.0824 - acc: 0.5927 - val_loss: 1.3538 - val_acc: 0.5020\n",
            "Epoch 4/20\n",
            "50/50 [==============================] - 32s 650ms/step - loss: 1.0831 - acc: 0.6079 - val_loss: 1.4144 - val_acc: 0.5400\n",
            "Epoch 5/20\n",
            "50/50 [==============================] - 32s 645ms/step - loss: 0.9754 - acc: 0.6710 - val_loss: 1.4100 - val_acc: 0.5780\n",
            "Epoch 6/20\n",
            "50/50 [==============================] - 32s 639ms/step - loss: 0.8753 - acc: 0.6930 - val_loss: 1.4326 - val_acc: 0.5520\n",
            "Epoch 7/20\n",
            "50/50 [==============================] - 32s 649ms/step - loss: 0.8606 - acc: 0.6823 - val_loss: 1.6149 - val_acc: 0.4840\n",
            "Epoch 8/20\n",
            "50/50 [==============================] - 33s 665ms/step - loss: 0.8309 - acc: 0.6960 - val_loss: 1.2486 - val_acc: 0.5820\n",
            "Epoch 9/20\n",
            "50/50 [==============================] - 31s 617ms/step - loss: 0.7745 - acc: 0.7400 - val_loss: 1.2145 - val_acc: 0.5800\n",
            "Epoch 10/20\n",
            "50/50 [==============================] - 33s 667ms/step - loss: 0.8144 - acc: 0.7170 - val_loss: 1.2915 - val_acc: 0.5660\n",
            "Epoch 11/20\n",
            "50/50 [==============================] - 34s 671ms/step - loss: 0.7439 - acc: 0.7420 - val_loss: 1.2111 - val_acc: 0.5800\n",
            "Epoch 12/20\n",
            "50/50 [==============================] - 32s 640ms/step - loss: 0.7740 - acc: 0.7260 - val_loss: 1.3316 - val_acc: 0.5400\n",
            "Epoch 13/20\n",
            "50/50 [==============================] - 33s 650ms/step - loss: 0.7774 - acc: 0.7300 - val_loss: 1.6193 - val_acc: 0.5880\n",
            "Epoch 14/20\n",
            "50/50 [==============================] - 31s 618ms/step - loss: 0.7096 - acc: 0.7637 - val_loss: 1.3364 - val_acc: 0.5840\n",
            "Epoch 15/20\n",
            "50/50 [==============================] - 32s 645ms/step - loss: 0.7259 - acc: 0.7480 - val_loss: 1.6083 - val_acc: 0.5780\n",
            "Epoch 16/20\n",
            "50/50 [==============================] - 32s 636ms/step - loss: 0.7187 - acc: 0.7610 - val_loss: 1.3602 - val_acc: 0.5800\n",
            "Epoch 17/20\n",
            "50/50 [==============================] - 32s 647ms/step - loss: 0.6666 - acc: 0.7610 - val_loss: 1.5084 - val_acc: 0.5800\n",
            "Epoch 18/20\n",
            "50/50 [==============================] - 33s 655ms/step - loss: 0.6684 - acc: 0.7610 - val_loss: 1.6552 - val_acc: 0.5380\n",
            "Epoch 19/20\n",
            "50/50 [==============================] - 33s 667ms/step - loss: 0.6434 - acc: 0.7670 - val_loss: 1.4916 - val_acc: 0.5460\n",
            "Epoch 20/20\n",
            "50/50 [==============================] - 33s 668ms/step - loss: 0.6406 - acc: 0.7800 - val_loss: 1.4612 - val_acc: 0.5280\n"
          ],
          "name": "stdout"
        }
      ]
    },
    {
      "cell_type": "code",
      "metadata": {
        "id": "ZjaUwwG4bwRw"
      },
      "source": [
        " # (conv_base.trainable = True\n",
        "#   set_trainable = False\n",
        "  # for layer in conv_base.layers:\n",
        "   #   if layer.name == 'block5_conv1':\n",
        "    #     set_trainable = True\n",
        "    #  if set_trainable:\n",
        "   #      layer.trainable = True\n",
        "    #  else:\n",
        "     #    layer.trainable = False)"
      ],
      "execution_count": null,
      "outputs": []
    },
    {
      "cell_type": "code",
      "metadata": {
        "id": "rGF9h6nZdAz2"
      },
      "source": [
        "#model.compile(loss='categorical_crossentropy',optimizer=optimizers.RMSprop(lr=1e-5),metrics=['acc'])\n",
        "#history = model.fit_generator(train_generator,steps_per_epoch=training_img // batch_size,epochs=20,validation_data=validation_generator,validation_steps= validation_img // batch_size)"
      ],
      "execution_count": null,
      "outputs": []
    },
    {
      "cell_type": "code",
      "metadata": {
        "id": "F1HJxjokSnJI",
        "outputId": "c056d7e4-49d0-4db1-d8c4-ddf04de69691",
        "colab": {
          "base_uri": "https://localhost:8080/",
          "height": 545
        }
      },
      "source": [
        "import matplotlib.pyplot as plt\n",
        "acc = history.history['acc']\n",
        "val_acc = history.history['val_acc']\n",
        "loss = history.history['loss']\n",
        "val_loss = history.history['val_loss']\n",
        "epochs = range(1, len(acc) + 1)\n",
        "plt.plot(epochs, acc, 'bo', label='Training acc')\n",
        "plt.plot(epochs, val_acc, 'b', label='Validation acc')\n",
        "plt.title('Training and validation accuracy')\n",
        "plt.legend()\n",
        "plt.figure()\n",
        "plt.plot(epochs, loss, 'bo', label='Training loss')\n",
        "plt.plot(epochs, val_loss, 'b', label='Validation loss')\n",
        "plt.title('Training and validation loss')\n",
        "plt.legend()\n",
        "plt.show()"
      ],
      "execution_count": 28,
      "outputs": [
        {
          "output_type": "display_data",
          "data": {
            "image/png": "[encoded data removed]",
            "text/plain": [
              "<Figure size 432x288 with 1 Axes>"
            ]
          },
          "metadata": {
            "tags": [],
            "needs_background": "light"
          }
        },
        {
          "output_type": "display_data",
          "data": {
            "image/png": "[encoded data removed]",
            "text/plain": [
              "<Figure size 432x288 with 1 Axes>"
            ]
          },
          "metadata": {
            "tags": [],
            "needs_background": "light"
          }
        }
      ]
    },
    {
      "cell_type": "code",
      "metadata": {
        "id": "gibuBRsVTBGm",
        "outputId": "12ffbba2-bab2-4d82-88ef-4aaef0675a5c",
        "colab": {
          "base_uri": "https://localhost:8080/",
          "height": 545
        }
      },
      "source": [
        "def smooth_curve(points, factor=0.8):\n",
        "  smoothed_points = []\n",
        "  for point in points:\n",
        "    if smoothed_points:\n",
        "      previous = smoothed_points[-1]\n",
        "      smoothed_points.append(previous * factor + point * (1 -factor))\n",
        "    else:\n",
        "      smoothed_points.append(point)\n",
        "  return smoothed_points\n",
        "plt.plot(epochs,smooth_curve(acc), 'bo', label='Smoothed training acc')\n",
        "plt.plot(epochs,smooth_curve(val_acc), 'b', label='Smoothed validationacc')\n",
        "plt.title('Training and validation accuracy')\n",
        "plt.legend()\n",
        "plt.figure()\n",
        "plt.plot(epochs,smooth_curve(loss), 'bo', label='Smoothed training loss')\n",
        "plt.plot(epochs,smooth_curve(val_loss), 'b', label='Smoothed validationloss')\n",
        "plt.title('Training and validation loss')\n",
        "plt.legend()\n",
        "plt.show()"
      ],
      "execution_count": 29,
      "outputs": [
        {
          "output_type": "display_data",
          "data": {
            "image/png": "[encoded data removed]",
            "text/plain": [
              "<Figure size 432x288 with 1 Axes>"
            ]
          },
          "metadata": {
            "tags": [],
            "needs_background": "light"
          }
        },
        {
          "output_type": "display_data",
          "data": {
            "image/png": "[encoded data removed]",
            "text/plain": [
              "<Figure size 432x288 with 1 Axes>"
            ]
          },
          "metadata": {
            "tags": [],
            "needs_background": "light"
          }
        }
      ]
    },
    {
      "cell_type": "code",
      "metadata": {
        "id": "E7-QW6TZiNIx",
        "outputId": "18e458a6-0dd0-4106-80c1-c831530eb9a4",
        "colab": {
          "base_uri": "https://localhost:8080/",
          "height": 54
        }
      },
      "source": [
        "test_generator = test_datagen.flow_from_directory(ins_new_dir[2],\n",
        "                                                  target_size=(150, 150),\n",
        "                                                  batch_size=20,\n",
        "                                                  class_mode='categorical')\n",
        "test_loss, test_acc = model.evaluate_generator(test_generator,steps=50)\n",
        "print('test acc:', test_acc)"
      ],
      "execution_count": 30,
      "outputs": [
        {
          "output_type": "stream",
          "text": [
            "Found 2116 images belonging to 6 classes.\n",
            "test acc: 0.6570000052452087\n"
          ],
          "name": "stdout"
        }
      ]
    },
    {
      "cell_type": "code",
      "metadata": {
        "id": "WsN8kmKf87KA",
        "outputId": "719526da-86d3-4ed9-e3c2-075c70aa7e8d",
        "colab": {
          "base_uri": "https://localhost:8080/",
          "height": 183
        }
      },
      "source": [
        "#for test images the samples aren't enough so doing the confusion matrix with validation images\n",
        "import numpy as np\n",
        "batch_size=20\n",
        "from sklearn.metrics import confusion_matrix\n",
        "Y_pred = model.predict_generator(validation_generator, validation_img// batch_size+1)\n",
        "y_pred = np.argmax(Y_pred, axis=1)\n",
        "print('Confusion Matrix')\n",
        "print(confusion_matrix(validation_generator.classes, y_pred))"
      ],
      "execution_count": 36,
      "outputs": [
        {
          "output_type": "stream",
          "text": [
            "WARNING:tensorflow:Your input ran out of data; interrupting training. Make sure that your dataset or generator can generate at least `steps_per_epoch * epochs` batches (in this case, 108 batches). You may need to use the repeat() function when building your dataset.\n",
            "Confusion Matrix\n",
            "[[ 53  68  41  85  52  30]\n",
            " [ 60  94  67 125  67  57]\n",
            " [ 54  73  55  62  65  34]\n",
            " [ 39  76  53  84  49  34]\n",
            " [ 43  84  47  75  69  34]\n",
            " [ 40  59  36  77  49  33]]\n"
          ],
          "name": "stdout"
        }
      ]
    }
  ]
}